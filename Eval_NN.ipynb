{
 "cells": [
  {
   "cell_type": "code",
   "execution_count": 1,
   "metadata": {},
   "outputs": [],
   "source": [
    "import numpy as np\n",
    "import math\n",
    "%matplotlib inline\n",
    "import matplotlib.pyplot as plt\n",
    "\n",
    "import energyflow as ef\n",
    "import torch\n",
    "import torch.nn as nn\n",
    "import os.path as osp\n",
    "\n",
    "torch.manual_seed(42)\n",
    "np.random.seed(42)"
   ]
  },
  {
   "cell_type": "code",
   "execution_count": 2,
   "metadata": {},
   "outputs": [],
   "source": [
    "plt.rcParams['figure.figsize'] = (4,4)\n",
    "plt.rcParams['figure.dpi'] = 120\n",
    "plt.rcParams['font.family'] = 'serif'"
   ]
  },
  {
   "cell_type": "code",
   "execution_count": 3,
   "metadata": {},
   "outputs": [],
   "source": [
    "from graph_data import GraphDataset\n",
    "gdata = GraphDataset(root='/energyflowvol/datasets', n_jets=100, n_events_merge=1)\n",
    "batch_size = 100"
   ]
  },
  {
   "cell_type": "code",
   "execution_count": 4,
   "metadata": {},
   "outputs": [
    {
     "data": {
      "text/plain": [
       "GraphDataset(9801)"
      ]
     },
     "execution_count": 4,
     "metadata": {},
     "output_type": "execute_result"
    }
   ],
   "source": [
    "gdata"
   ]
  },
  {
   "cell_type": "code",
   "execution_count": 5,
   "metadata": {},
   "outputs": [],
   "source": [
    "from models import DynamicEdgeNet, EdgeNet, DeeperDynamicEdgeNet"
   ]
  },
  {
   "cell_type": "code",
   "execution_count": 7,
   "metadata": {},
   "outputs": [
    {
     "name": "stdout",
     "output_type": "stream",
     "text": [
      "Using GPU\n"
     ]
    }
   ],
   "source": [
    "input_dim = 3\n",
    "big_dim = 32\n",
    "bigger_dim = 128\n",
    "global_dim = 2\n",
    "output_dim = 1\n",
    "fulllen = len(gdata)\n",
    "tv_frac = 0.10\n",
    "tv_num = math.ceil(fulllen*tv_frac)\n",
    "lr = 0.001\n",
    "device = 'cuda:0'\n",
    "model_fname = 'DeeperDynamicEdgeNet'\n",
    "modpath = osp.join('/energyflowvol/lhco_models/',model_fname+'.best.pth')\n",
    "\n",
    "model = DeeperDynamicEdgeNet(input_dim=input_dim, big_dim=big_dim, bigger_dim=bigger_dim, \n",
    "                global_dim=global_dim, output_dim=output_dim).to(device)\n",
    "optimizer = torch.optim.Adam(model.parameters(), lr = lr)\n",
    "\n",
    "try:\n",
    "    if torch.cuda.is_available():\n",
    "        print(\"Using GPU\")\n",
    "        model.load_state_dict(torch.load(modpath, map_location=torch.device('cuda')))\n",
    "    else:\n",
    "        model.load_state_dict(torch.load(modpath, map_location=torch.device('cpu')))\n",
    "except:\n",
    "    print(\"no model\")\n",
    "    pass # new model"
   ]
  },
  {
   "cell_type": "code",
   "execution_count": 8,
   "metadata": {},
   "outputs": [
    {
     "name": "stdout",
     "output_type": "stream",
     "text": [
      "7839\n",
      "981\n",
      "981\n"
     ]
    }
   ],
   "source": [
    "from torch_geometric.data import Data, DataLoader, DataListLoader, Batch\n",
    "from torch.utils.data import random_split\n",
    "\n",
    "train_dataset, valid_dataset, test_dataset = random_split(gdata, [fulllen-2*tv_num,tv_num,tv_num])\n",
    "\n",
    "def collate(items): # collate function for data loaders (transforms list of lists to list)\n",
    "    l = sum(items, [])\n",
    "    return Batch.from_data_list(l)\n",
    "\n",
    "train_loader = DataLoader(train_dataset, batch_size=batch_size, pin_memory=True, shuffle=True)\n",
    "train_loader.collate_fn = collate\n",
    "valid_loader = DataLoader(valid_dataset, batch_size=batch_size, pin_memory=True, shuffle=False)\n",
    "valid_loader.collate_fn = collate\n",
    "test_loader = DataLoader(test_dataset, batch_size=batch_size, pin_memory=True, shuffle=False)\n",
    "test_loader.collate_fn = collate\n",
    "\n",
    "train_samples = len(train_dataset)\n",
    "valid_samples = len(valid_dataset)\n",
    "test_samples = len(test_dataset)\n",
    "\n",
    "print(train_samples)\n",
    "print(valid_samples)\n",
    "print(test_samples)"
   ]
  },
  {
   "cell_type": "code",
   "execution_count": 9,
   "metadata": {},
   "outputs": [],
   "source": [
    "import tqdm\n",
    "@torch.no_grad()\n",
    "def test(model,loader,total,batch_size):\n",
    "    model.eval()\n",
    "    \n",
    "    mse = nn.MSELoss(reduction='mean')\n",
    "\n",
    "    sum_loss = 0.\n",
    "    t = tqdm.tqdm(enumerate(loader),total=total/batch_size)\n",
    "    for i,data in t:\n",
    "        data = data.to(device)\n",
    "        batch_output = model(data)\n",
    "        batch_loss_item = mse(batch_output, data.y).item()\n",
    "        sum_loss += batch_loss_item\n",
    "        t.set_description(\"loss = %.5f\" % (batch_loss_item))\n",
    "        t.refresh() # to show immediately the update\n",
    "\n",
    "    return sum_loss/(i+1)\n",
    "\n",
    "def train(model, optimizer, loader, total, batch_size):\n",
    "    model.train()\n",
    "    \n",
    "    mse = nn.MSELoss(reduction='mean')\n",
    "\n",
    "    sum_loss = 0.\n",
    "    t = tqdm.tqdm(enumerate(loader),total=total/batch_size)\n",
    "    for i,data in t:\n",
    "        data = data.to(device)\n",
    "        optimizer.zero_grad()\n",
    "        batch_output = model(data)\n",
    "        batch_loss = mse(batch_output, data.y)\n",
    "        batch_loss.backward()\n",
    "        batch_loss_item = batch_loss.item()\n",
    "        t.set_description(\"loss = %.5f\" % batch_loss_item)\n",
    "        t.refresh() # to show immediately the update\n",
    "        sum_loss += batch_loss_item\n",
    "        optimizer.step()\n",
    "    \n",
    "    return sum_loss/(i+1)"
   ]
  },
  {
   "cell_type": "code",
   "execution_count": null,
   "metadata": {},
   "outputs": [],
   "source": [
    "n_epochs = 100\n",
    "patience = 10\n",
    "stale_epochs = 0\n",
    "best_valid_loss = 99999\n",
    "losses = []\n",
    "val_losses = []\n",
    "for epoch in range(0, n_epochs):\n",
    "    loss = train(model, optimizer, train_loader, train_samples, batch_size)\n",
    "    losses.append(loss)\n",
    "    valid_loss = test(model, valid_loader, valid_samples, batch_size)\n",
    "    val_losses.append(valid_loss)\n",
    "    print('Epoch: {:02d}, Training Loss:   {:.4f}'.format(epoch, loss))\n",
    "    print('               Validation Loss: {:.4f}'.format(valid_loss))\n",
    "\n",
    "    if valid_loss < best_valid_loss:\n",
    "        best_valid_loss = valid_loss\n",
    "        print('New best model saved to:',modpath)\n",
    "        torch.save(model.state_dict(),modpath)\n",
    "        stale_epochs = 0\n",
    "    else:\n",
    "        print('Stale epoch')\n",
    "        stale_epochs += 1\n",
    "    if stale_epochs >= patience:\n",
    "        print('Early stopping after %i stale epochs'%patience)\n",
    "        break"
   ]
  },
  {
   "cell_type": "code",
   "execution_count": 10,
   "metadata": {},
   "outputs": [
    {
     "name": "stderr",
     "output_type": "stream",
     "text": [
      " 92%|█████████▏| 9/9.81 [02:25<00:13, 16.05s/it]/opt/conda/lib/python3.7/site-packages/tqdm/std.py:527: TqdmWarning: clamping frac to range [0, 1]\n",
      "  colour=colour)\n",
      "102%|██████████| 10/9.81 [02:38<-1:59:57, 15.84s/it]\n"
     ]
    }
   ],
   "source": [
    "model.load_state_dict(torch.load(modpath))\n",
    "ys = []\n",
    "preds = []\n",
    "diffs = []\n",
    "\n",
    "from graph_data import ONE_HUNDRED_GEV\n",
    "\n",
    "t = tqdm.tqdm(enumerate(test_loader),total=test_samples/batch_size)\n",
    "for i, data in t:\n",
    "    data.to(device)\n",
    "    ys.append(data.y.cpu().numpy().squeeze()*ONE_HUNDRED_GEV)\n",
    "    preds.append(model(data).cpu().detach().numpy().squeeze()*ONE_HUNDRED_GEV)\n",
    "    \n",
    "ys = np.concatenate(ys)   \n",
    "preds = np.concatenate(preds)   \n",
    "diffs = (preds-ys)\n",
    "rel_diffs = diffs[ys>0]/ys[ys>0]"
   ]
  },
  {
   "cell_type": "code",
   "execution_count": 11,
   "metadata": {},
   "outputs": [
    {
     "data": {
      "image/png": "[encoded data removed]",
      "text/plain": [
       "<Figure size 600x600 with 1 Axes>"
      ]
     },
     "metadata": {
      "needs_background": "light"
     },
     "output_type": "display_data"
    },
    {
     "data": {
      "image/png": "[encoded data removed]",
      "text/plain": [
       "<Figure size 600x600 with 1 Axes>"
      ]
     },
     "metadata": {
      "needs_background": "light"
     },
     "output_type": "display_data"
    },
    {
     "data": {
      "image/png": "[encoded data removed]",
      "text/plain": [
       "<Figure size 600x600 with 1 Axes>"
      ]
     },
     "metadata": {
      "needs_background": "light"
     },
     "output_type": "display_data"
    },
    {
     "data": {
      "image/png": "[encoded data removed]",
      "text/plain": [
       "<Figure size 600x600 with 1 Axes>"
      ]
     },
     "metadata": {
      "needs_background": "light"
     },
     "output_type": "display_data"
    }
   ],
   "source": [
    "# fig, ax = plt.subplots(figsize =(5, 5)) \n",
    "# plt.plot(losses, marker='o',label='Training', alpha=0.5)\n",
    "# plt.plot(val_losses, marker='o',label = 'Validation', alpha=0.5)\n",
    "# plt.legend()\n",
    "# ax.set_ylabel('Loss') \n",
    "# ax.set_xlabel('Epoch') \n",
    "# fig.savefig('/energyflowvol/models/'+model_fname+'_loss.pdf')\n",
    "# fig.savefig('/energyflowvol/models/'+model_fname+'_loss.png')\n",
    "\n",
    "fig, ax = plt.subplots(figsize =(5, 5)) \n",
    "plt.hist(ys, bins=np.linspace(0, 300, 101),label='True', alpha=0.5)\n",
    "plt.hist(preds, bins=np.linspace(0, 300, 101),label = 'Pred.', alpha=0.5)\n",
    "plt.legend()\n",
    "ax.set_xlabel('EMD [GeV]') \n",
    "fig.savefig('/energyflowvol/models/'+model_fname+'_EMD.pdf')\n",
    "fig.savefig('/energyflowvol/models/'+model_fname+'_EMD.png')\n",
    "\n",
    "fig, ax = plt.subplots(figsize =(5, 5)) \n",
    "plt.hist(diffs, bins=np.linspace(-200, 200, 101))\n",
    "ax.set_xlabel('EMD diff. [GeV]')  \n",
    "fig.savefig('/energyflowvol/models/'+model_fname+'_EMD_diff.pdf')\n",
    "fig.savefig('/energyflowvol/models/'+model_fname+'_EMD_diff.png')\n",
    "\n",
    "\n",
    "fig, ax = plt.subplots(figsize =(5, 5)) \n",
    "plt.hist(rel_diffs, bins=np.linspace(-1, 1, 101))\n",
    "ax.set_xlabel('EMD rel. diff.')  \n",
    "fig.savefig('/energyflowvol/models/'+model_fname+'_EMD_rel_diff.pdf')\n",
    "fig.savefig('/energyflowvol/models/'+model_fname+'_EMD_rel_diff.png')\n",
    "\n",
    "fig, ax = plt.subplots(figsize =(5, 5)) \n",
    "x_bins = np.linspace(0, 300, 101)\n",
    "y_bins = np.linspace(0, 300, 101)\n",
    "plt.hist2d(ys, preds, bins=[x_bins,y_bins])\n",
    "ax.set_xlabel('True EMD [GeV]')  \n",
    "ax.set_ylabel('Pred. EMD [GeV]')\n",
    "fig.savefig('/energyflowvol/models/'+model_fname+'_EMD_corr.pdf')\n",
    "fig.savefig('/energyflowvol/models/'+model_fname+'_EMD_corr.png')"
   ]
  },
  {
   "cell_type": "code",
   "execution_count": null,
   "metadata": {},
   "outputs": [],
   "source": []
  }
 ],
 "metadata": {
  "kernelspec": {
   "display_name": "Python 3",
   "language": "python",
   "name": "python3"
  },
  "language_info": {
   "codemirror_mode": {
    "name": "ipython",
    "version": 3
   },
   "file_extension": ".py",
   "mimetype": "text/x-python",
   "name": "python",
   "nbconvert_exporter": "python",
   "pygments_lexer": "ipython3",
   "version": "3.7.6"
  }
 },
 "nbformat": 4,
 "nbformat_minor": 2
}
