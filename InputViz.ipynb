{
 "cells": [
  {
   "cell_type": "code",
   "execution_count": 1,
   "metadata": {},
   "outputs": [],
   "source": [
    "import plot"
   ]
  },
  {
   "cell_type": "code",
   "execution_count": 20,
   "metadata": {},
   "outputs": [],
   "source": [
    "import numpy as np\n",
    "import math\n",
    "%matplotlib inline\n",
    "import matplotlib.pyplot as plt\n",
    "from graph_data import GraphDataset\n",
    "import energyflow as ef\n",
    "import torch\n",
    "import torch.nn as nn\n",
    "import os.path as osp\n",
    "from torch_geometric.data import Data, DataLoader, DataListLoader, Batch\n",
    "from torch.utils.data import random_split\n",
    "from scipy.stats import iqr"
   ]
  },
  {
   "cell_type": "code",
   "execution_count": 3,
   "metadata": {},
   "outputs": [],
   "source": [
    "gdata = GraphDataset(root='/energyflowvol/datasets/', n_jets=100, n_events_merge=1)"
   ]
  },
  {
   "cell_type": "code",
   "execution_count": 30,
   "metadata": {},
   "outputs": [],
   "source": [
    "_, data = random_split(gdata, [len(gdata)-100, 100])"
   ]
  },
  {
   "cell_type": "code",
   "execution_count": 5,
   "metadata": {},
   "outputs": [
    {
     "data": {
      "text/plain": [
       "100"
      ]
     },
     "execution_count": 5,
     "metadata": {},
     "output_type": "execute_result"
    }
   ],
   "source": [
    "len(data)"
   ]
  },
  {
   "cell_type": "code",
   "execution_count": 7,
   "metadata": {},
   "outputs": [
    {
     "data": {
      "text/plain": [
       "((tensor([0.0033, 0.0018, 0.0017,  ..., 0.0316, 0.2482, 0.3008]), 'pt'),\n",
       " (tensor([ 0.3460,  0.0815,  0.3492,  ..., -0.1002, -0.0969, -0.0945]), 'eta'),\n",
       " (tensor([0.1776, 0.3543, 0.0116,  ..., 0.0361, 0.0331, 0.0335]), 'phi'))"
      ]
     },
     "execution_count": 7,
     "metadata": {},
     "output_type": "execute_result"
    }
   ],
   "source": [
    "x_input = plot.get_x_input(data)\n",
    "x_input"
   ]
  },
  {
   "cell_type": "code",
   "execution_count": 8,
   "metadata": {},
   "outputs": [],
   "source": [
    "plt.rcParams['figure.figsize'] = (4,4)\n",
    "plt.rcParams['figure.dpi'] = 120\n",
    "plt.rcParams['font.family'] = 'serif'"
   ]
  },
  {
   "cell_type": "code",
   "execution_count": 39,
   "metadata": {},
   "outputs": [],
   "source": [
    "def get_y_output(gdata):\n",
    "    y = []\n",
    "    for d in gdata:\n",
    "        y.append(d[0].y[0])\n",
    "    y = torch.cat(y)\n",
    "    return y\n",
    "y = get_y_output(data)"
   ]
  },
  {
   "cell_type": "code",
   "execution_count": 40,
   "metadata": {},
   "outputs": [
    {
     "name": "stdout",
     "output_type": "stream",
     "text": [
      "PT\n",
      "min: 0.00021260447101667523\n",
      "max: 0.8064922094345093\n",
      "avg: 0.022946305572986603\n",
      "med: 0.005346550606191158\n",
      "iqr: 0.014071182813495398\n",
      "\n",
      "ETA\n",
      "min: -0.39298611879348755\n",
      "max: 0.39617377519607544\n",
      "avg: 0.004044757690280676\n",
      "med: 0.0006116789299994707\n",
      "iqr: 0.11352299526333809\n",
      "\n",
      "PHI\n",
      "min: -0.39344534277915955\n",
      "max: 0.3982384204864502\n",
      "avg: -0.007440187036991119\n",
      "med: 0.00019979359058197588\n",
      "iqr: 0.1261487491428852\n",
      "\n",
      "EMD\n",
      "min: 0.0\n",
      "max: 14.371859550476074\n",
      "avg: 5.794693470001221\n",
      "med: 5.090531826019287\n",
      "iqr: 3.9118064045906067\n"
     ]
    },
    {
     "data": {
      "image/png": "[encoded data removed]",
      "text/plain": [
       "<Figure size 360x360 with 1 Axes>"
      ]
     },
     "metadata": {
      "needs_background": "light"
     },
     "output_type": "display_data"
    },
    {
     "data": {
      "image/png": "[encoded data removed]",
      "text/plain": [
       "<Figure size 360x360 with 1 Axes>"
      ]
     },
     "metadata": {
      "needs_background": "light"
     },
     "output_type": "display_data"
    },
    {
     "data": {
      "image/png": "[encoded data removed]",
      "text/plain": [
       "<Figure size 360x360 with 1 Axes>"
      ]
     },
     "metadata": {
      "needs_background": "light"
     },
     "output_type": "display_data"
    },
    {
     "data": {
      "image/png": "[encoded data removed]",
      "text/plain": [
       "<Figure size 360x360 with 1 Axes>"
      ]
     },
     "metadata": {
      "needs_background": "light"
     },
     "output_type": "display_data"
    }
   ],
   "source": [
    "feat=x_input[0][0]\n",
    "len(feat)\n",
    "fig, ax = plt.subplots(figsize =(5, 5)) \n",
    "plt.hist(feat.numpy())\n",
    "ax.set_xlabel('pt')\n",
    "print(f'PT\\nmin: {min(feat)}\\nmax: {max(feat)}\\navg: {torch.mean(feat)}\\nmed: {torch.median(feat)}\\niqr: {iqr(feat)}')\n",
    "\n",
    "feat=x_input[1][0]\n",
    "len(feat)\n",
    "fig, ax = plt.subplots(figsize =(5, 5)) \n",
    "plt.hist(feat.numpy())\n",
    "ax.set_xlabel('eta')\n",
    "print(f'\\nETA\\nmin: {min(feat)}\\nmax: {max(feat)}\\navg: {torch.mean(feat)}\\nmed: {torch.median(feat)}\\niqr: {iqr(feat)}')\n",
    "\n",
    "feat=x_input[2][0]\n",
    "len(feat)\n",
    "fig, ax = plt.subplots(figsize =(5, 5)) \n",
    "plt.hist(feat.numpy())\n",
    "ax.set_xlabel('phi')\n",
    "print(f'\\nPHI\\nmin: {min(feat)}\\nmax: {max(feat)}\\navg: {torch.mean(feat)}\\nmed: {torch.median(feat)}\\niqr: {iqr(feat)}')\n",
    "\n",
    "feat=y\n",
    "len(feat)\n",
    "fig, ax = plt.subplots(figsize =(5, 5)) \n",
    "plt.hist(feat.numpy())\n",
    "ax.set_xlabel('emd')\n",
    "print(f'\\nEMD\\nmin: {min(feat)}\\nmax: {max(feat)}\\navg: {torch.mean(feat)}\\nmed: {torch.median(feat)}\\niqr: {iqr(feat)}')"
   ]
  },
  {
   "cell_type": "markdown",
   "metadata": {},
   "source": [
    "# Note to self: EMD values are wrong (some factor larger than what they should be)"
   ]
  }
 ],
 "metadata": {
  "kernelspec": {
   "display_name": "Python 3",
   "language": "python",
   "name": "python3"
  },
  "language_info": {
   "codemirror_mode": {
    "name": "ipython",
    "version": 3
   },
   "file_extension": ".py",
   "mimetype": "text/x-python",
   "name": "python",
   "nbconvert_exporter": "python",
   "pygments_lexer": "ipython3",
   "version": "3.7.6"
  }
 },
 "nbformat": 4,
 "nbformat_minor": 4
}
