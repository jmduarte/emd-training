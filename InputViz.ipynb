{
 "cells": [
  {
   "cell_type": "code",
   "execution_count": 1,
   "metadata": {},
   "outputs": [],
   "source": [
    "import plot"
   ]
  },
  {
   "cell_type": "code",
   "execution_count": 2,
   "metadata": {},
   "outputs": [],
   "source": [
    "import numpy as np\n",
    "import math\n",
    "%matplotlib inline\n",
    "import matplotlib.pyplot as plt\n",
    "from graph_data import GraphDataset\n",
    "import energyflow as ef\n",
    "import torch\n",
    "import torch.nn as nn\n",
    "import os.path as osp\n",
    "from torch_geometric.data import Data, DataLoader, DataListLoader, Batch\n",
    "from torch.utils.data import random_split\n",
    "from scipy.stats import iqr"
   ]
  },
  {
   "cell_type": "code",
   "execution_count": 3,
   "metadata": {},
   "outputs": [],
   "source": [
    "plt.rcParams['figure.figsize'] = (4,4)\n",
    "plt.rcParams['figure.dpi'] = 120\n",
    "plt.rcParams['font.family'] = 'serif'"
   ]
  },
  {
   "cell_type": "code",
   "execution_count": 4,
   "metadata": {},
   "outputs": [],
   "source": [
    "gdata = GraphDataset(root='/energyflowvol/datasets/', n_jets=100, n_events_merge=1, lhco=True)\n",
    "_, lhco_data = random_split(gdata, [len(gdata)-100, 100])"
   ]
  },
  {
   "cell_type": "code",
   "execution_count": 5,
   "metadata": {},
   "outputs": [
    {
     "name": "stdout",
     "output_type": "stream",
     "text": [
      "Processing...\n",
      "Loading QG Dataset\n",
      "Downloading QG_jets.npz from https://www.dropbox.com/s/fclsl7pukcpobsb/QG_jets.npz?dl=1 to /home/jovyan/.energyflow/datasets/raw/datasets\n",
      "Generated: 0/10000\n",
      "Generated: 500/10000\n",
      "Generated: 1000/10000\n",
      "Generated: 1500/10000\n",
      "Generated: 2000/10000\n",
      "Generated: 2500/10000\n",
      "Generated: 3000/10000\n",
      "Generated: 3500/10000\n",
      "Generated: 4000/10000\n",
      "Generated: 4500/10000\n",
      "Generated: 5000/10000\n",
      "Generated: 5500/10000\n",
      "Generated: 6000/10000\n",
      "Generated: 6500/10000\n",
      "Generated: 7000/10000\n",
      "Generated: 7500/10000\n",
      "Generated: 8000/10000\n",
      "Generated: 8500/10000\n",
      "Generated: 9000/10000\n",
      "Generated: 9500/10000\n",
      "Done!\n"
     ]
    }
   ],
   "source": [
    "gdata = GraphDataset(root='~/.energyflow/datasets', n_jets=100, n_events_merge=1)\n",
    "_, qg_data = random_split(gdata, [len(gdata)-100, 100])"
   ]
  },
  {
   "cell_type": "code",
   "execution_count": 6,
   "metadata": {},
   "outputs": [],
   "source": [
    "lhco_x = plot.get_x_input(lhco_data)\n",
    "lhco_y = plot.get_y_output(lhco_data)"
   ]
  },
  {
   "cell_type": "code",
   "execution_count": null,
   "metadata": {},
   "outputs": [],
   "source": [
    "qg_x = plot.get_x_input(qg_data)\n",
    "qg_y = plot.get_y_output(qg_data)"
   ]
  },
  {
   "cell_type": "code",
   "execution_count": null,
   "metadata": {
    "scrolled": false
   },
   "outputs": [],
   "source": [
    "lhco_feat=lhco_x[0][0]\n",
    "qg_feat=qg_x[0][0]\n",
    "fig, ax = plt.subplots(figsize =(5, 5))\n",
    "bins=np.linspace(0,0.2,31)\n",
    "plt.hist(lhco_feat.numpy(), label='lhco', bins=bins, alpha=0.5)\n",
    "plt.hist(qg_feat.numpy(), label='qg', bins=bins, alpha=0.5)\n",
    "plt.legend()\n",
    "ax.set_xlabel('pt')\n",
    "print(f'PT\\nmin: {min(lhco_feat)}\\nmax: {max(lhco_feat)}\\navg: {torch.mean(lhco_feat)}\\nmed: {torch.median(lhco_feat)}\\niqr: {iqr(lhco_feat)}')\n",
    "\n",
    "lhco_feat=lhco_x[1][0]\n",
    "qg_feat=qg_x[1][0]\n",
    "fig, ax = plt.subplots(figsize =(5, 5))\n",
    "bins=np.linspace(-0.4,0.4,31)\n",
    "plt.hist(lhco_feat.numpy(), label='lhco', bins=bins, alpha=0.5)\n",
    "plt.hist(qg_feat.numpy(), label='qg', bins=bins, alpha=0.5)\n",
    "plt.legend()\n",
    "ax.set_xlabel('eta')\n",
    "print(f'\\nETA\\nmin: {min(lhco_feat)}\\nmax: {max(lhco_feat)}\\navg: {torch.mean(lhco_feat)}\\nmed: {torch.median(lhco_feat)}\\niqr: {iqr(lhco_feat)}')\n",
    "\n",
    "lhco_feat=lhco_x[2][0]\n",
    "qg_feat=qg_x[2][0]\n",
    "fig, ax = plt.subplots(figsize =(5, 5))\n",
    "bins=np.linspace(-0.4,0.4,31)\n",
    "plt.hist(lhco_feat.numpy(), label='lhco', bins=bins, alpha=0.5)\n",
    "plt.hist(qg_feat.numpy(), label='qg', bins=bins, alpha=0.5)\n",
    "plt.legend()\n",
    "ax.set_xlabel('phi')\n",
    "print(f'\\nPHI\\nmin: {min(lhco_feat)}\\nmax: {max(lhco_feat)}\\navg: {torch.mean(lhco_feat)}\\nmed: {torch.median(lhco_feat)}\\niqr: {iqr(lhco_feat)}')\n",
    "\n",
    "lhco_feat=lhco_y\n",
    "qg_feat=qg_y\n",
    "fig, ax = plt.subplots(figsize =(5, 5))\n",
    "bins=np.linspace(0,12,100)\n",
    "plt.hist(lhco_feat.numpy(), label='lhco', bins=bins, alpha=0.5)\n",
    "plt.hist(qg_feat.numpy(), label='qg', bins=bins, alpha=0.5)\n",
    "plt.legend()\n",
    "ax.set_xlabel('emd')\n",
    "print(f'\\nEMD\\nmin: {min(lhco_feat)}\\nmax: {max(lhco_feat)}\\navg: {torch.mean(lhco_feat)}\\nmed: {torch.median(lhco_feat)}\\niqr: {iqr(lhco_feat)}')"
   ]
  }
 ],
 "metadata": {
  "kernelspec": {
   "display_name": "Python 3",
   "language": "python",
   "name": "python3"
  },
  "language_info": {
   "codemirror_mode": {
    "name": "ipython",
    "version": 3
   },
   "file_extension": ".py",
   "mimetype": "text/x-python",
   "name": "python",
   "nbconvert_exporter": "python",
   "pygments_lexer": "ipython3",
   "version": "3.7.6"
  }
 },
 "nbformat": 4,
 "nbformat_minor": 4
}
